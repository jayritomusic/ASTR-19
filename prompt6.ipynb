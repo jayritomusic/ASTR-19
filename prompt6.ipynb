{
 "cells": [
  {
   "cell_type": "code",
   "execution_count": 1,
   "id": "b46dd5ee-0052-4d0e-9496-9e8a0222897a",
   "metadata": {},
   "outputs": [],
   "source": [
    "#This notebook defines functions for calculating `sin(x)` and `cos(x)`. Then, it tabulates these values for `x` in the range [0, 2] with 1000 points and prints the first 10 values in a formatted table."
   ]
  },
  {
   "cell_type": "code",
   "execution_count": 2,
   "id": "0aace99c-8613-44e3-8db3-ac1be7a338de",
   "metadata": {},
   "outputs": [],
   "source": [
    "import numpy as np\n",
    "\n",
    "def sine_function(x):\n",
    "    return np.sin(x)"
   ]
  },
  {
   "cell_type": "code",
   "execution_count": 3,
   "id": "3402d21c-2970-49e3-849d-0b6d6f1eee0c",
   "metadata": {},
   "outputs": [],
   "source": [
    "#This cell defines the sin function"
   ]
  },
  {
   "cell_type": "code",
   "execution_count": 4,
   "id": "294ee3b8-12fd-4241-b58e-f47405597dec",
   "metadata": {},
   "outputs": [],
   "source": [
    "def cosine_function(x):\n",
    "    return np.cos(x)"
   ]
  },
  {
   "cell_type": "code",
   "execution_count": 5,
   "id": "b4083685-0279-4fe9-973e-ef721e9d1366",
   "metadata": {},
   "outputs": [],
   "source": [
    "#This cell defines the cosine function"
   ]
  },
  {
   "cell_type": "code",
   "execution_count": 6,
   "id": "2513a532-ec6d-4ce8-ae96-7ace73a47169",
   "metadata": {},
   "outputs": [],
   "source": [
    "x_values = np.linspace(0, 2, 1000)\n",
    "sin_values = sine_function(x_values)\n",
    "cos_values = cosine_function(x_values)"
   ]
  },
  {
   "cell_type": "code",
   "execution_count": 7,
   "id": "a5874cff-c464-4901-b1fc-2ae85f838a97",
   "metadata": {},
   "outputs": [],
   "source": [
    "#This cell starts the table and tabulates it"
   ]
  },
  {
   "cell_type": "code",
   "execution_count": 8,
   "id": "79f036b5-a4d2-4fa5-99f1-5507f03c589b",
   "metadata": {},
   "outputs": [
    {
     "name": "stdout",
     "output_type": "stream",
     "text": [
      "         x     sin(x)     cos(x)\n",
      "--------------------------------\n",
      "  0.000000   0.000000   1.000000\n",
      "  0.002002   0.002002   0.999998\n",
      "  0.004004   0.004004   0.999992\n",
      "  0.006006   0.006006   0.999982\n",
      "  0.008008   0.008008   0.999968\n",
      "  0.010010   0.010010   0.999950\n",
      "  0.012012   0.012012   0.999928\n",
      "  0.014014   0.014014   0.999902\n",
      "  0.016016   0.016015   0.999872\n",
      "  0.018018   0.018017   0.999838\n"
     ]
    }
   ],
   "source": [
    "print(f\"{'x':>10} {'sin(x)':>10} {'cos(x)':>10}\")\n",
    "print('-' * 32)\n",
    "\n",
    "for i in range(10):\n",
    "    x = x_values[i]\n",
    "    sin_x = sin_values[i]\n",
    "    cos_x = cos_values[i]\n",
    "    print(f\"{x:10.6f} {sin_x:10.6f} {cos_x:10.6f}\")"
   ]
  },
  {
   "cell_type": "code",
   "execution_count": 9,
   "id": "89881c09-8c99-4cc8-9067-321155bb8fe4",
   "metadata": {},
   "outputs": [],
   "source": [
    "#This cell took the first 10 values and plotted them in the table"
   ]
  },
  {
   "cell_type": "code",
   "execution_count": null,
   "id": "3372b1d7-4448-4a9a-8ea9-f57a437fb3b8",
   "metadata": {},
   "outputs": [],
   "source": []
  }
 ],
 "metadata": {
  "kernelspec": {
   "display_name": "ASTR 19",
   "language": "python",
   "name": "astr19"
  },
  "language_info": {
   "codemirror_mode": {
    "name": "ipython",
    "version": 3
   },
   "file_extension": ".py",
   "mimetype": "text/x-python",
   "name": "python",
   "nbconvert_exporter": "python",
   "pygments_lexer": "ipython3",
   "version": "3.10.12"
  }
 },
 "nbformat": 4,
 "nbformat_minor": 5
}
